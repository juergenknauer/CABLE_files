{
 "cells": [
  {
   "cell_type": "code",
   "execution_count": 1,
   "metadata": {
    "collapsed": true
   },
   "outputs": [],
   "source": [
    "import os\n",
    "import sys\n",
    "import netCDF4\n",
    "import shutil\n",
    "import tempfile\n",
    "import pandas as pd\n",
    "import numpy as np"
   ]
  },
  {
   "cell_type": "code",
   "execution_count": 2,
   "metadata": {},
   "outputs": [
    {
     "name": "stdout",
     "output_type": "stream",
     "text": [
      "/OSM/CBR/OA_GLOBALCABLE/work/BIOS3_simulations/python_scripts/python_notebooks_Vanessa\r\n"
     ]
    }
   ],
   "source": [
    "!pwd"
   ]
  },
  {
   "cell_type": "markdown",
   "metadata": {},
   "source": [
    "# Edit Site Met Files"
   ]
  },
  {
   "cell_type": "code",
   "execution_count": 3,
   "metadata": {
    "collapsed": true
   },
   "outputs": [],
   "source": [
    "site_met_path = '/OSM/CBR/OA_GLOBALCABLE/work/BIOS3_forcing/site_met/'"
   ]
  },
  {
   "cell_type": "code",
   "execution_count": 4,
   "metadata": {
    "collapsed": true
   },
   "outputs": [],
   "source": [
    "#files=['Warra_met_2014_2017.nc', 'AU_Cum_2014_2017_met.nc', 'Tumbarumba_met_2002_2016.nc', 'Wombat_met_2010_2018_iveg.nc']\n",
    "files=['HowardFluxnet.1.4_met.nc']"
   ]
  },
  {
   "cell_type": "code",
   "execution_count": 5,
   "metadata": {
    "collapsed": true
   },
   "outputs": [],
   "source": [
    "iveg_vals = np.array([(2,7)])\n",
    "patchfrac_vals = np.array([(0.5,0.5)])"
   ]
  },
  {
   "cell_type": "code",
   "execution_count": 9,
   "metadata": {
    "collapsed": true
   },
   "outputs": [],
   "source": [
    "def put_tile_info(met_fname=None, new_met_fname=\"tmp.nc\"): \n",
    "    shutil.copyfile(met_fname, new_met_fname)\n",
    "    nc = netCDF4.Dataset(new_met_fname, 'r+')\n",
    "    #(nc_attrs, nc_dims, nc_vars) = ncdump(nc)\n",
    "    nc.createDimension(\"patch\", 2)  \n",
    "    iveg = nc.createVariable(\"iveg\",\"i4\",(\"patch\",\"y\",\"x\"))\n",
    "    iveg[:] = [2,7]\n",
    "    patchfrac = nc.createVariable(\"patchfrac\",\"f4\",(\"patch\",\"y\",\"x\"))\n",
    "    patchfrac[:] = [0.5, 0.5]\n",
    "    nc.close()"
   ]
  },
  {
   "cell_type": "code",
   "execution_count": 10,
   "metadata": {
    "scrolled": false
   },
   "outputs": [
    {
     "name": "stdout",
     "output_type": "stream",
     "text": [
      "/OSM/CBR/OA_GLOBALCABLE/work/BIOS3_forcing/site_met/HowardFluxnet.1.4_met.nc\n"
     ]
    }
   ],
   "source": [
    "i=0\n",
    "for f in files:\n",
    "    met_fname = site_met_path + f\n",
    "    print(met_fname)\n",
    "    met_fname_new = met_fname[:-3] + '_tiled.nc'\n",
    "    put_tile_info(met_fname=met_fname, new_met_fname=met_fname_new)\n",
    "    i=i+1"
   ]
  },
  {
   "cell_type": "code",
   "execution_count": null,
   "metadata": {
    "collapsed": true
   },
   "outputs": [],
   "source": [
    "def  set_Tair(met_fname=None, new_met_fname=\"tmp.nc\"): \n",
    "    shutil.copyfile(met_fname, new_met_fname)\n",
    "    nc = netCDF4.Dataset(new_met_fname, 'r+')\n",
    "    (nc_attrs, nc_dims, nc_vars) = ncdump(nc)\n",
    "    Tair = nc.variables['Tair'][:,0,0]\n",
    "    nc.variables['Tair'][:,0,0] = Tair.mean()\n",
    "    nc.close()  # close the new file\n",
    "    print(Tair.mean())\n",
    "    return new_met_fname"
   ]
  },
  {
   "cell_type": "code",
   "execution_count": null,
   "metadata": {
    "collapsed": true
   },
   "outputs": [],
   "source": [
    "def ncdump(nc_fid):\n",
    "    '''\n",
    "    ncdump outputs dimensions, variables and their attribute information.\n",
    "\n",
    "    Parameters\n",
    "    ----------\n",
    "    nc_fid : netCDF4.Dataset\n",
    "        A netCDF4 dateset object\n",
    "\n",
    "    Returns\n",
    "    -------\n",
    "    nc_attrs : list\n",
    "        A Python list of the NetCDF file global attributes\n",
    "    nc_dims : list\n",
    "        A Python list of the NetCDF file dimensions\n",
    "    nc_vars : list\n",
    "        A Python list of the NetCDF file variables\n",
    "    '''\n",
    "\n",
    "    # NetCDF global attributes\n",
    "    nc_attrs = nc_fid.ncattrs()\n",
    "    nc_dims = [dim for dim in nc_fid.dimensions]  # list of nc dimensions\n",
    "\n",
    "    # Variable information.\n",
    "    nc_vars = [var for var in nc_fid.variables]  # list of nc variables\n",
    "\n",
    "    return nc_attrs, nc_dims, nc_vars"
   ]
  },
  {
   "cell_type": "code",
   "execution_count": null,
   "metadata": {
    "collapsed": true
   },
   "outputs": [],
   "source": [
    "def change_LAI(met_fname=None, fixed=None, lai_fname=None, new_met_fname=\"tmp.nc\"):\n",
    "\n",
    "    if fixed is not None:\n",
    "        lai = fixed\n",
    "    else:\n",
    "        lai = pd.read_csv(lai_fname)\n",
    "\n",
    "    shutil.copyfile(met_fname, new_met_fname)\n",
    "\n",
    "    nc = netCDF4.Dataset(new_met_fname, 'r+')\n",
    "    (nc_attrs, nc_dims, nc_vars) = ncdump(nc)\n",
    "\n",
    "    try:\n",
    "        nc_var = nc.createVariable('LAI', 'f4', ('time', 'y', 'x'))\n",
    "    except:\n",
    "        print('variable exists')\n",
    "        pass\n",
    "   \n",
    "    nc.setncatts({'long_name': \"Leaf Area Index\",})\n",
    "    nc.variables['LAI'][:,0,0] = lai\n",
    "    nc.close()  # close the new file\n",
    "\n",
    "    return new_met_fname"
   ]
  },
  {
   "cell_type": "code",
   "execution_count": null,
   "metadata": {
    "collapsed": true
   },
   "outputs": [],
   "source": []
  }
 ],
 "metadata": {
  "kernelspec": {
   "display_name": "Python 3",
   "language": "python",
   "name": "python3"
  },
  "language_info": {
   "codemirror_mode": {
    "name": "ipython",
    "version": 3
   },
   "file_extension": ".py",
   "mimetype": "text/x-python",
   "name": "python",
   "nbconvert_exporter": "python",
   "pygments_lexer": "ipython3",
   "version": "3.6.3"
  }
 },
 "nbformat": 4,
 "nbformat_minor": 2
}
